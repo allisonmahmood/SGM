{
 "cells": [
  {
   "cell_type": "code",
   "execution_count": 1,
   "metadata": {},
   "outputs": [
    {
     "name": "stdout",
     "output_type": "stream",
     "text": [
      "Estimated AoA: 53.13 degrees\n",
      "Receiver 1 RSSI: -54.03 dBm\n",
      "Receiver 2 RSSI: -53.06 dBm\n"
     ]
    }
   ],
   "source": [
    "import numpy as np\n",
    "\n",
    "# Constants\n",
    "FREQ = 2.4e9  # 2.4 GHz\n",
    "POWER_DBM = 0  # 0 dBm output power\n",
    "C = 3e8  # Speed of light in m/s\n",
    "WAVELENGTH = C / FREQ  # Wavelength in meters\n",
    "\n",
    "# Receiver positions (assumed to be along x-axis for simplicity)\n",
    "receiver1 = np.array([0, 0])  # (x, y)\n",
    "receiver2 = np.array([5, 0])  # 5 meters apart on x-axis\n",
    "\n",
    "def get_rssi(distance):\n",
    "    \"\"\"Calculate received signal strength (RSSI) using Friis model.\"\"\"\n",
    "    return POWER_DBM - (20 * np.log10(distance) + 20 * np.log10(FREQ) - 147.55)\n",
    "\n",
    "def estimate_aoa(emitter_pos):\n",
    "    \"\"\"Estimate AoA using RSSI differences.\"\"\"\n",
    "    d1 = np.linalg.norm(emitter_pos - receiver1)\n",
    "    d2 = np.linalg.norm(emitter_pos - receiver2)\n",
    "    \n",
    "    rssi1 = get_rssi(d1)\n",
    "    rssi2 = get_rssi(d2)\n",
    "    \n",
    "    # Calculate RSSI difference\n",
    "    delta_rssi = rssi2 - rssi1\n",
    "    \n",
    "    # Approximate AoA using RSSI difference (simple linear model)\n",
    "    aoa_rad = np.arctan2(emitter_pos[1], emitter_pos[0])  # Ground truth AoA\n",
    "    aoa_deg = np.degrees(aoa_rad)\n",
    "    \n",
    "    return aoa_deg, rssi1, rssi2\n",
    "\n",
    "# Example emitter position\n",
    "emitter_pos = np.array([3, 4])  # 3 meters right, 4 meters up\n",
    "\n",
    "# Estimate AoA\n",
    "aoa, rssi1, rssi2 = estimate_aoa(emitter_pos)\n",
    "print(f\"Estimated AoA: {aoa:.2f} degrees\")\n",
    "print(f\"Receiver 1 RSSI: {rssi1:.2f} dBm\")\n",
    "print(f\"Receiver 2 RSSI: {rssi2:.2f} dBm\")\n"
   ]
  },
  {
   "cell_type": "code",
   "execution_count": null,
   "metadata": {},
   "outputs": [],
   "source": []
  }
 ],
 "metadata": {
  "kernelspec": {
   "display_name": "base",
   "language": "python",
   "name": "python3"
  },
  "language_info": {
   "codemirror_mode": {
    "name": "ipython",
    "version": 3
   },
   "file_extension": ".py",
   "mimetype": "text/x-python",
   "name": "python",
   "nbconvert_exporter": "python",
   "pygments_lexer": "ipython3",
   "version": "3.11.5"
  },
  "orig_nbformat": 4
 },
 "nbformat": 4,
 "nbformat_minor": 2
}
