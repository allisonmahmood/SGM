{
	"cells": [
		{
			"cell_type": "code",
			"source": [
				"import numpy as np\n",
				"# Define the grid size and number of points\n",
				"grid_size = 500  # in meters\n",
				"num_points = 1000  # number of points along each axis\n",
				"# Create the grid\n",
				"x = np.linspace(0, grid_size, num_points)\n",
				"y = np.linspace(0, grid_size, num_points)\n",
				"z = np.linspace(0, grid_size, num_points)\n"
			]
		}
	]
}
